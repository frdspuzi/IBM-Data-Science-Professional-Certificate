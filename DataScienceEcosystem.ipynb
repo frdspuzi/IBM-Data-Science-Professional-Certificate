{
  "nbformat": 4,
  "nbformat_minor": 0,
  "metadata": {
    "colab": {
      "provenance": [],
      "toc_visible": true
    },
    "kernelspec": {
      "name": "python3",
      "display_name": "Python 3"
    },
    "language_info": {
      "name": "python"
    }
  },
  "cells": [
    {
      "cell_type": "markdown",
      "source": [
        "#Data Science Tools and Ecosystem"
      ],
      "metadata": {
        "id": "DpvdMFYnRN4K"
      }
    },
    {
      "cell_type": "markdown",
      "source": [
        "In this notebook, Data Science Tools and Ecosystem are summarized."
      ],
      "metadata": {
        "id": "mb27xcahRjAb"
      }
    },
    {
      "cell_type": "markdown",
      "source": [
        "Some of the popular languages that Data Scientists use are:\n",
        "1. Julia\n",
        "2. Python\n",
        "3. R\n",
        "\n",
        "\n"
      ],
      "metadata": {
        "id": "CEK5Bad2Rmwz"
      }
    },
    {
      "cell_type": "markdown",
      "source": [
        "Some of the commonly used libraries used by Data Scientists include:\n",
        "1. Scikit-learn\n",
        "2. Pandas\n",
        "3. Matplotlib"
      ],
      "metadata": {
        "id": "TfIyyurUSFha"
      }
    },
    {
      "cell_type": "markdown",
      "source": [
        "|Data Science Tools|\n",
        "|---|\n",
        "|Google Colab|\n",
        "|Jupyter Notebook|\n",
        "|Apache Hadoop|\n",
        "|PySpark|"
      ],
      "metadata": {
        "id": "Yh7OWG7eSSiJ"
      }
    },
    {
      "cell_type": "markdown",
      "source": [
        "###Below are a few examples of evaluating arithmetic expressions in Python"
      ],
      "metadata": {
        "id": "YI7OKEprTso_"
      }
    },
    {
      "cell_type": "code",
      "source": [
        "(3*4)+5 #This a simple arithmetic expression to mutiply then add integers"
      ],
      "metadata": {
        "colab": {
          "base_uri": "https://localhost:8080/"
        },
        "id": "wi4Twyh-UEdP",
        "outputId": "b0338eb2-2c61-433c-c004-43626290f83f"
      },
      "execution_count": null,
      "outputs": [
        {
          "output_type": "execute_result",
          "data": {
            "text/plain": [
              "17"
            ]
          },
          "metadata": {},
          "execution_count": 1
        }
      ]
    },
    {
      "cell_type": "code",
      "source": [
        "min = 200\n",
        "hrs = min/60 #This will convert 200 minutes to hours by diving by 60\n",
        "print(f'{hrs} hrs')"
      ],
      "metadata": {
        "colab": {
          "base_uri": "https://localhost:8080/"
        },
        "id": "fiyGmxvtUNxC",
        "outputId": "c18c91d3-0ec0-4981-b476-f49999fb6145"
      },
      "execution_count": null,
      "outputs": [
        {
          "output_type": "stream",
          "name": "stdout",
          "text": [
            "3.3333333333333335 hrs\n"
          ]
        }
      ]
    },
    {
      "cell_type": "markdown",
      "source": [
        "**Objectives:**\n",
        "\n",
        "* Popular Languages for Data Scientists\n",
        "* Commonly Used Libraries used by Data Scientists\n",
        "* Data Science Tools\n",
        "* Examples of Evaluating Arithmetic Expressions in Python\n",
        "\n"
      ],
      "metadata": {
        "id": "38gn821YUjlL"
      }
    },
    {
      "cell_type": "markdown",
      "source": [
        "##Author\n",
        "Firdaus"
      ],
      "metadata": {
        "id": "AI1C_5gcVC0R"
      }
    }
  ]
}